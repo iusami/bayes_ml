{
  "nbformat": 4,
  "nbformat_minor": 0,
  "metadata": {
    "colab": {
      "name": "chapter2.ipynb",
      "provenance": [],
      "collapsed_sections": [],
      "authorship_tag": "ABX9TyMBbv9PIoCknc3molOvC7ww",
      "include_colab_link": true
    },
    "kernelspec": {
      "name": "python3",
      "display_name": "Python 3"
    },
    "language_info": {
      "name": "python"
    },
    "accelerator": "GPU"
  },
  "cells": [
    {
      "cell_type": "markdown",
      "metadata": {
        "id": "view-in-github",
        "colab_type": "text"
      },
      "source": [
        "<a href=\"https://colab.research.google.com/github/iusami/bayes_ml/blob/master/chapter2.ipynb\" target=\"_parent\"><img src=\"https://colab.research.google.com/assets/colab-badge.svg\" alt=\"Open In Colab\"/></a>"
      ]
    },
    {
      "cell_type": "code",
      "execution_count": 26,
      "metadata": {
        "colab": {
          "base_uri": "https://localhost:8080/"
        },
        "id": "Mb24ECWQmUSi",
        "outputId": "70dac9a7-1f18-46b1-c34b-56b5c298f5a0"
      },
      "outputs": [
        {
          "output_type": "stream",
          "name": "stdout",
          "text": [
            "Requirement already satisfied: numpyro in /usr/local/lib/python3.7/dist-packages (0.8.0)\n",
            "Requirement already satisfied: japanize-matplotlib in /usr/local/lib/python3.7/dist-packages (1.1.3)\n",
            "Requirement already satisfied: tqdm in /usr/local/lib/python3.7/dist-packages (from numpyro) (4.62.3)\n",
            "Requirement already satisfied: jaxlib>=0.1.65 in /usr/local/lib/python3.7/dist-packages (from numpyro) (0.1.71+cuda111)\n",
            "Requirement already satisfied: jax>=0.2.13 in /usr/local/lib/python3.7/dist-packages (from numpyro) (0.2.25)\n",
            "Requirement already satisfied: absl-py in /usr/local/lib/python3.7/dist-packages (from jax>=0.2.13->numpyro) (0.12.0)\n",
            "Requirement already satisfied: numpy>=1.18 in /usr/local/lib/python3.7/dist-packages (from jax>=0.2.13->numpyro) (1.19.5)\n",
            "Requirement already satisfied: scipy>=1.2.1 in /usr/local/lib/python3.7/dist-packages (from jax>=0.2.13->numpyro) (1.4.1)\n",
            "Requirement already satisfied: opt-einsum in /usr/local/lib/python3.7/dist-packages (from jax>=0.2.13->numpyro) (3.3.0)\n",
            "Requirement already satisfied: typing-extensions in /usr/local/lib/python3.7/dist-packages (from jax>=0.2.13->numpyro) (3.10.0.2)\n",
            "Requirement already satisfied: flatbuffers<3.0,>=1.12 in /usr/local/lib/python3.7/dist-packages (from jaxlib>=0.1.65->numpyro) (2.0)\n",
            "Requirement already satisfied: matplotlib in /usr/local/lib/python3.7/dist-packages (from japanize-matplotlib) (3.2.2)\n",
            "Requirement already satisfied: six in /usr/local/lib/python3.7/dist-packages (from absl-py->jax>=0.2.13->numpyro) (1.15.0)\n",
            "Requirement already satisfied: pyparsing!=2.0.4,!=2.1.2,!=2.1.6,>=2.0.1 in /usr/local/lib/python3.7/dist-packages (from matplotlib->japanize-matplotlib) (3.0.6)\n",
            "Requirement already satisfied: cycler>=0.10 in /usr/local/lib/python3.7/dist-packages (from matplotlib->japanize-matplotlib) (0.11.0)\n",
            "Requirement already satisfied: python-dateutil>=2.1 in /usr/local/lib/python3.7/dist-packages (from matplotlib->japanize-matplotlib) (2.8.2)\n",
            "Requirement already satisfied: kiwisolver>=1.0.1 in /usr/local/lib/python3.7/dist-packages (from matplotlib->japanize-matplotlib) (1.3.2)\n"
          ]
        }
      ],
      "source": [
        "#moduleの準備\n",
        "!pip install numpyro japanize-matplotlib"
      ]
    },
    {
      "cell_type": "code",
      "source": [
        "import japanize_matplotlib\n",
        "import numpy as np\n",
        "import matplotlib\n",
        "from matplotlib import pyplot as plt\n",
        "import seaborn as sns\n",
        "import pandas as pd\n",
        "import scipy"
      ],
      "metadata": {
        "id": "xC0SjTtfn7Cr"
      },
      "execution_count": 27,
      "outputs": []
    },
    {
      "cell_type": "markdown",
      "source": [
        "## 一様分布とベータ分布からサンプリング"
      ],
      "metadata": {
        "id": "ZW9HSuzlcgOV"
      }
    },
    {
      "cell_type": "code",
      "source": [
        "from jax.random import PRNGKey\n",
        "from numpyro.distributions import Uniform, Beta\n",
        "#keyの準備\n",
        "key = PRNGKey(seed=1234)\n",
        "\n",
        "#一様分布とベータ分布からのサンプリング\n",
        "uni = Uniform()\n",
        "beta = Beta(concentration0=4, concentration1=6)\n",
        "uniform_sample = uni.sample(key, sample_shape=(10000,))\n",
        "beta_sample = beta.sample(key, sample_shape=(10000,))\n",
        "uniform_df = pd.DataFrame({\"value\":uniform_sample, \"kind\":\"uniform\"})\n",
        "beta_df = pd.DataFrame({\"value\":(beta_sample), \"kind\":\"beta\"})\n",
        "sample_df = pd.concat([uniform_df, beta_df], axis=0).reset_index(drop=True)\n",
        "\n",
        "#seabornで可視化\n",
        "sns.histplot(data=sample_df,x=\"value\", hue=\"kind\", bins=100,binrange=(0,1))"
      ],
      "metadata": {
        "colab": {
          "base_uri": "https://localhost:8080/",
          "height": 294
        },
        "id": "t8QO9Wqwn-3E",
        "outputId": "d2d16014-d700-4902-8667-117b2361ba83"
      },
      "execution_count": 28,
      "outputs": [
        {
          "output_type": "execute_result",
          "data": {
            "text/plain": [
              "<matplotlib.axes._subplots.AxesSubplot at 0x7f72001b37d0>"
            ]
          },
          "metadata": {},
          "execution_count": 28
        },
        {
          "output_type": "display_data",
          "data": {
            "image/png": "[encoded data removed]",
            "text/plain": [
              "<Figure size 432x288 with 1 Axes>"
            ]
          },
          "metadata": {
            "needs_background": "light"
          }
        }
      ]
    },
    {
      "cell_type": "markdown",
      "source": [
        "## ベータ分布の事後分布の計算"
      ],
      "metadata": {
        "id": "7qf_VcuIcs_s"
      }
    },
    {
      "cell_type": "markdown",
      "source": [
        "データがベルヌーイ分布から生成されたとして、事前分布をベータ分布\n",
        "$$p(x|\\alpha,\\beta) = \\cfrac{x^{\\alpha-1}(1-x)^{\\beta-1}}{B(\\alpha,\\beta)}$$\n",
        "とする。  \n",
        "その時事後分布は以下のようにかける。"
      ],
      "metadata": {
        "id": "aHcK-K3ANIKv"
      }
    },
    {
      "cell_type": "markdown",
      "source": [
        "$$p(q|D) = \\cfrac{q^{\\alpha_\\ast-1}(1-q)^{\\beta_\\ast-1}}{B(\\alpha_\\ast,\\  \\beta_\\ast)}, \\alpha_\\ast=y+\\alpha, \\beta_\\ast=n-y+\\beta, y=\\sum_{i=1}^{n}x_i   $$ \n",
        "ただし、$n$はサンプルサイズ。"
      ],
      "metadata": {
        "id": "R_SZHAeLPER6"
      }
    },
    {
      "cell_type": "code",
      "source": [
        "from numpyro.distributions import BernoulliProbs\n",
        "bern = BernoulliProbs(0.25)\n",
        "#データの準備\n",
        "n = [10,50,250]\n",
        "bern_sample = [bern.sample(key, sample_shape=(i,)) for i in n]\n",
        "\n",
        "#事後分布の計算関数の準備\n",
        "def beta_posterior_parameter(alpha, beta, sample):\n",
        "  y = np.sum(sample)\n",
        "  alpha_ast = y + alpha\n",
        "  beta_ast = len(sample) - y + beta\n",
        "  return alpha_ast, beta_ast\n",
        "\n",
        "alpha0=1\n",
        "beta0=1\n",
        "\n",
        "post_params = [beta_posterior_parameter(alpha0, beta0, np.array(i)) for i in bern_sample]\n",
        "\n",
        "#生成したサンプルごとの事後分布の計算\n",
        "beta_posterior_samples = []\n",
        "for ct, params in enumerate(post_params):\n",
        "  alpha_curr, beta_curr = params\n",
        "  beta_post = Beta(alpha_curr, beta_curr)\n",
        "  sample_df_tmp = pd.DataFrame({\"value\":np.array(beta_post.sample(key, sample_shape=(10000,))), \"kind\":\"params{}\".format(str(ct))})\n",
        "  beta_posterior_samples.append(sample_df_tmp)\n",
        "beta_posterior_samples_df = pd.concat(beta_posterior_samples).reset_index(drop=True)\n",
        "\n",
        "#事前分布のサンプル\n",
        "beta_pre = Beta(alpha0, beta0)\n",
        "beta_pre_sample = np.array(beta_pre.sample(key, sample_shape=(10000,)))\n",
        "beta_pre_sample_df = pd.DataFrame({\"value\":beta_pre_sample,\"kind\":\"prior\"})\n",
        "\n",
        "concat_df = pd.concat([beta_posterior_samples_df, beta_pre_sample_df]).reset_index(drop=True)\n",
        "\n",
        "#seabornで可視化\n",
        "sns.histplot(concat_df, x=\"value\", hue=\"kind\", bins=100,binrange=(0,1))"
      ],
      "metadata": {
        "colab": {
          "base_uri": "https://localhost:8080/",
          "height": 294
        },
        "id": "wJp97KqeSI73",
        "outputId": "c2d6eb05-9c8d-4686-b4e3-5132ba18df85"
      },
      "execution_count": 29,
      "outputs": [
        {
          "output_type": "execute_result",
          "data": {
            "text/plain": [
              "<matplotlib.axes._subplots.AxesSubplot at 0x7f72016bb450>"
            ]
          },
          "metadata": {},
          "execution_count": 29
        },
        {
          "output_type": "display_data",
          "data": {
            "image/png": "[encoded data removed]",
            "text/plain": [
              "<Figure size 432x288 with 1 Axes>"
            ]
          },
          "metadata": {
            "needs_background": "light"
          }
        }
      ]
    },
    {
      "cell_type": "code",
      "source": [
        "#事前分布の変更"
      ],
      "metadata": {
        "id": "pjNN4t_KX0jo"
      },
      "execution_count": 30,
      "outputs": []
    },
    {
      "cell_type": "code",
      "source": [
        "alpha1=6\n",
        "beta1=4\n",
        "post_params = [beta_posterior_parameter(alpha1, beta1, np.array(i)) for i in bern_sample]\n",
        "beta_posterior_samples = []\n",
        "for ct, params in enumerate(post_params):\n",
        "  alpha_curr, beta_curr = params\n",
        "  beta_post = Beta(alpha_curr, beta_curr)\n",
        "  sample_df_tmp = pd.DataFrame({\"value\":np.array(beta_post.sample(key, sample_shape=(10000,))), \"kind\":\"params{}\".format(str(ct))})\n",
        "  beta_posterior_samples.append(sample_df_tmp)\n",
        "beta_posterior_samples_df = pd.concat(beta_posterior_samples).reset_index(drop=True)\n",
        "#事前分布のサンプル\n",
        "beta_pre = Beta(alpha1, beta1)\n",
        "beta_pre_sample = np.array(beta_pre.sample(key, sample_shape=(10000,)))\n",
        "beta_pre_sample_df = pd.DataFrame({\"value\":beta_pre_sample,\"kind\":\"prior\"})\n",
        "concat_df_2 = pd.concat([beta_posterior_samples_df, beta_pre_sample_df]).reset_index(drop=True)"
      ],
      "metadata": {
        "id": "ewG-eiXPY9SQ"
      },
      "execution_count": 32,
      "outputs": []
    },
    {
      "cell_type": "code",
      "source": [
        "sns.histplot(concat_df_2, x=\"value\", hue=\"kind\", bins=100,binrange=(0,1))"
      ],
      "metadata": {
        "colab": {
          "base_uri": "https://localhost:8080/",
          "height": 294
        },
        "outputId": "7ae9ecd8-ab5b-446b-bcfc-334f1662cfe8",
        "id": "BX0HE7zFY9SZ"
      },
      "execution_count": 33,
      "outputs": [
        {
          "output_type": "execute_result",
          "data": {
            "text/plain": [
              "<matplotlib.axes._subplots.AxesSubplot at 0x7f71ef9e6b10>"
            ]
          },
          "metadata": {},
          "execution_count": 33
        },
        {
          "output_type": "display_data",
          "data": {
            "image/png": "[encoded data removed]",
            "text/plain": [
              "<Figure size 432x288 with 1 Axes>"
            ]
          },
          "metadata": {
            "needs_background": "light"
          }
        }
      ]
    },
    {
      "cell_type": "code",
      "source": [
        "#事前分布の影響の比較\n",
        "fig, ax = plt.subplots(1,2,figsize=(10,5))\n",
        "sns.histplot(concat_df, x=\"value\", hue=\"kind\", bins=100,binrange=(0,1), ax=ax[0])\n",
        "sns.histplot(concat_df_2, x=\"value\", hue=\"kind\", bins=100,binrange=(0,1), ax=ax[1])"
      ],
      "metadata": {
        "colab": {
          "base_uri": "https://localhost:8080/",
          "height": 349
        },
        "id": "nry8Jc8MZRs3",
        "outputId": "0fb7d441-4b2b-4021-8d54-25c6e9da5b82"
      },
      "execution_count": 34,
      "outputs": [
        {
          "output_type": "execute_result",
          "data": {
            "text/plain": [
              "<matplotlib.axes._subplots.AxesSubplot at 0x7f71ef959bd0>"
            ]
          },
          "metadata": {},
          "execution_count": 34
        },
        {
          "output_type": "display_data",
          "data": {
            "image/png": "[encoded data removed]",
            "text/plain": [
              "<Figure size 720x360 with 2 Axes>"
            ]
          },
          "metadata": {
            "needs_background": "light"
          }
        }
      ]
    },
    {
      "cell_type": "code",
      "source": [
        "#HPD区間の表示"
      ],
      "metadata": {
        "id": "XFrnolPKZuV1"
      },
      "execution_count": 35,
      "outputs": []
    },
    {
      "cell_type": "code",
      "source": [
        "from numpyro.diagnostics import summary"
      ],
      "metadata": {
        "id": "J44_eyKQdi9m"
      },
      "execution_count": 36,
      "outputs": []
    },
    {
      "cell_type": "code",
      "source": [
        "beta_hpd = Beta(6,4)\n",
        "beta_hpd_sample = beta_hpd.sample(key, sample_shape=(10000,))\n",
        "summary_res = summary(beta_hpd_sample,group_by_chain=False)\n",
        "summary_df = pd.DataFrame(summary_res)\n",
        "summary_df.columns=[\"値\"]"
      ],
      "metadata": {
        "id": "fk-aDTESdyTI"
      },
      "execution_count": 37,
      "outputs": []
    },
    {
      "cell_type": "code",
      "source": [
        "summary_df"
      ],
      "metadata": {
        "colab": {
          "base_uri": "https://localhost:8080/",
          "height": 269
        },
        "id": "GoeVT97ZjeiS",
        "outputId": "3caa2009-0517-41d5-947e-5456d383bb84"
      },
      "execution_count": 38,
      "outputs": [
        {
          "output_type": "execute_result",
          "data": {
            "text/html": [
              "\n",
              "  <div id=\"df-2d245705-c420-41b7-bec0-90b5008811fd\">\n",
              "    <div class=\"colab-df-container\">\n",
              "      <div>\n",
              "<style scoped>\n",
              "    .dataframe tbody tr th:only-of-type {\n",
              "        vertical-align: middle;\n",
              "    }\n",
              "\n",
              "    .dataframe tbody tr th {\n",
              "        vertical-align: top;\n",
              "    }\n",
              "\n",
              "    .dataframe thead th {\n",
              "        text-align: right;\n",
              "    }\n",
              "</style>\n",
              "<table border=\"1\" class=\"dataframe\">\n",
              "  <thead>\n",
              "    <tr style=\"text-align: right;\">\n",
              "      <th></th>\n",
              "      <th>値</th>\n",
              "    </tr>\n",
              "  </thead>\n",
              "  <tbody>\n",
              "    <tr>\n",
              "      <th>5.0%</th>\n",
              "      <td>0.365745</td>\n",
              "    </tr>\n",
              "    <tr>\n",
              "      <th>95.0%</th>\n",
              "      <td>0.850152</td>\n",
              "    </tr>\n",
              "    <tr>\n",
              "      <th>mean</th>\n",
              "      <td>0.599876</td>\n",
              "    </tr>\n",
              "    <tr>\n",
              "      <th>median</th>\n",
              "      <td>0.608533</td>\n",
              "    </tr>\n",
              "    <tr>\n",
              "      <th>n_eff</th>\n",
              "      <td>9889.899876</td>\n",
              "    </tr>\n",
              "    <tr>\n",
              "      <th>r_hat</th>\n",
              "      <td>0.999914</td>\n",
              "    </tr>\n",
              "    <tr>\n",
              "      <th>std</th>\n",
              "      <td>0.147820</td>\n",
              "    </tr>\n",
              "  </tbody>\n",
              "</table>\n",
              "</div>\n",
              "      <button class=\"colab-df-convert\" onclick=\"convertToInteractive('df-2d245705-c420-41b7-bec0-90b5008811fd')\"\n",
              "              title=\"Convert this dataframe to an interactive table.\"\n",
              "              style=\"display:none;\">\n",
              "        \n",
              "  <svg xmlns=\"http://www.w3.org/2000/svg\" height=\"24px\"viewBox=\"0 0 24 24\"\n",
              "       width=\"24px\">\n",
              "    <path d=\"M0 0h24v24H0V0z\" fill=\"none\"/>\n",
              "    <path d=\"M18.56 5.44l.94 2.06.94-2.06 2.06-.94-2.06-.94-.94-2.06-.94 2.06-2.06.94zm-11 1L8.5 8.5l.94-2.06 2.06-.94-2.06-.94L8.5 2.5l-.94 2.06-2.06.94zm10 10l.94 2.06.94-2.06 2.06-.94-2.06-.94-.94-2.06-.94 2.06-2.06.94z\"/><path d=\"M17.41 7.96l-1.37-1.37c-.4-.4-.92-.59-1.43-.59-.52 0-1.04.2-1.43.59L10.3 9.45l-7.72 7.72c-.78.78-.78 2.05 0 2.83L4 21.41c.39.39.9.59 1.41.59.51 0 1.02-.2 1.41-.59l7.78-7.78 2.81-2.81c.8-.78.8-2.07 0-2.86zM5.41 20L4 18.59l7.72-7.72 1.47 1.35L5.41 20z\"/>\n",
              "  </svg>\n",
              "      </button>\n",
              "      \n",
              "  <style>\n",
              "    .colab-df-container {\n",
              "      display:flex;\n",
              "      flex-wrap:wrap;\n",
              "      gap: 12px;\n",
              "    }\n",
              "\n",
              "    .colab-df-convert {\n",
              "      background-color: #E8F0FE;\n",
              "      border: none;\n",
              "      border-radius: 50%;\n",
              "      cursor: pointer;\n",
              "      display: none;\n",
              "      fill: #1967D2;\n",
              "      height: 32px;\n",
              "      padding: 0 0 0 0;\n",
              "      width: 32px;\n",
              "    }\n",
              "\n",
              "    .colab-df-convert:hover {\n",
              "      background-color: #E2EBFA;\n",
              "      box-shadow: 0px 1px 2px rgba(60, 64, 67, 0.3), 0px 1px 3px 1px rgba(60, 64, 67, 0.15);\n",
              "      fill: #174EA6;\n",
              "    }\n",
              "\n",
              "    [theme=dark] .colab-df-convert {\n",
              "      background-color: #3B4455;\n",
              "      fill: #D2E3FC;\n",
              "    }\n",
              "\n",
              "    [theme=dark] .colab-df-convert:hover {\n",
              "      background-color: #434B5C;\n",
              "      box-shadow: 0px 1px 3px 1px rgba(0, 0, 0, 0.15);\n",
              "      filter: drop-shadow(0px 1px 2px rgba(0, 0, 0, 0.3));\n",
              "      fill: #FFFFFF;\n",
              "    }\n",
              "  </style>\n",
              "\n",
              "      <script>\n",
              "        const buttonEl =\n",
              "          document.querySelector('#df-2d245705-c420-41b7-bec0-90b5008811fd button.colab-df-convert');\n",
              "        buttonEl.style.display =\n",
              "          google.colab.kernel.accessAllowed ? 'block' : 'none';\n",
              "\n",
              "        async function convertToInteractive(key) {\n",
              "          const element = document.querySelector('#df-2d245705-c420-41b7-bec0-90b5008811fd');\n",
              "          const dataTable =\n",
              "            await google.colab.kernel.invokeFunction('convertToInteractive',\n",
              "                                                     [key], {});\n",
              "          if (!dataTable) return;\n",
              "\n",
              "          const docLinkHtml = 'Like what you see? Visit the ' +\n",
              "            '<a target=\"_blank\" href=https://colab.research.google.com/notebooks/data_table.ipynb>data table notebook</a>'\n",
              "            + ' to learn more about interactive tables.';\n",
              "          element.innerHTML = '';\n",
              "          dataTable['output_type'] = 'display_data';\n",
              "          await google.colab.output.renderOutput(dataTable, element);\n",
              "          const docLink = document.createElement('div');\n",
              "          docLink.innerHTML = docLinkHtml;\n",
              "          element.appendChild(docLink);\n",
              "        }\n",
              "      </script>\n",
              "    </div>\n",
              "  </div>\n",
              "  "
            ],
            "text/plain": [
              "                  値\n",
              "5.0%       0.365745\n",
              "95.0%      0.850152\n",
              "mean       0.599876\n",
              "median     0.608533\n",
              "n_eff   9889.899876\n",
              "r_hat      0.999914\n",
              "std        0.147820"
            ]
          },
          "metadata": {},
          "execution_count": 38
        }
      ]
    },
    {
      "cell_type": "code",
      "source": [
        "sns.histplot(beta_hpd_sample)\n",
        "plt.vlines(summary_res[\"Param:0\"][\"5.0%\"],0,10000,color=\"red\")\n",
        "plt.vlines(summary_res[\"Param:0\"][\"95.0%\"],0,10000,color=\"red\")\n",
        "plt.ylim(0,1500)"
      ],
      "metadata": {
        "colab": {
          "base_uri": "https://localhost:8080/",
          "height": 281
        },
        "id": "_qgjMihZdvrI",
        "outputId": "4509ab73-0cfe-48b6-91c5-24e00f922826"
      },
      "execution_count": 39,
      "outputs": [
        {
          "output_type": "execute_result",
          "data": {
            "text/plain": [
              "(0.0, 1500.0)"
            ]
          },
          "metadata": {},
          "execution_count": 39
        },
        {
          "output_type": "display_data",
          "data": {
            "image/png": "[encoded data removed]",
            "text/plain": [
              "<Figure size 432x288 with 1 Axes>"
            ]
          },
          "metadata": {
            "needs_background": "light"
          }
        }
      ]
    },
    {
      "cell_type": "code",
      "source": [
        "#事後分布についてのsummary"
      ],
      "metadata": {
        "id": "KdHFpar1j89h"
      },
      "execution_count": 40,
      "outputs": []
    },
    {
      "cell_type": "code",
      "source": [
        "post_beta_summary = Beta(post_params[2][0], post_params[2][1])"
      ],
      "metadata": {
        "id": "oqrZQfM3kHX6"
      },
      "execution_count": 41,
      "outputs": []
    },
    {
      "cell_type": "code",
      "source": [
        "post_beta_summary_sample = post_beta_summary.sample(key, (10000,))\n",
        "summary(post_beta_summary_sample,0.9,False)"
      ],
      "metadata": {
        "colab": {
          "base_uri": "https://localhost:8080/"
        },
        "id": "7FxSwBBnkQmF",
        "outputId": "22c2c1c4-72c9-45ac-80c1-05d4b1122894"
      },
      "execution_count": 42,
      "outputs": [
        {
          "output_type": "execute_result",
          "data": {
            "text/plain": [
              "{'Param:0': OrderedDict([('mean', 0.2577526),\n",
              "              ('std', 0.027135147),\n",
              "              ('median', 0.25745842),\n",
              "              ('5.0%', 0.21162954),\n",
              "              ('95.0%', 0.30036533),\n",
              "              ('n_eff', 9944.387102027846),\n",
              "              ('r_hat', 1.0000194114965053)])}"
            ]
          },
          "metadata": {},
          "execution_count": 42
        }
      ]
    },
    {
      "cell_type": "code",
      "source": [
        "#事後確率の計算\n",
        "beta_post = Beta(post_params[2][0],post_params[2][1])\n",
        "q = 0.3\n",
        "\n",
        "#30%以上であるという仮説\n",
        "print(\"事後確率による結果:\",1 - beta_post.cdf(q))\n",
        "\n",
        "#事後オッズ比の計算\n",
        "odds = (1 - beta_post.cdf(q))/beta_post.cdf(q)\n",
        "print(\"事後オッズ比による結果:\",odds)\n",
        "\n",
        "#ベイズファクターでの比較\n",
        "pre_odds = (1- beta_pre.cdf(q))/beta_pre.cdf(q)\n",
        "print(\"ベイズファクターでの比較:\",np.log10(odds/pre_odds))\n",
        "\n",
        "#SDDRの計算\n",
        "#30%かどうか\n",
        "sddr = np.log10(scipy.stats.beta.pdf(0.3, alpha1, beta1)/scipy.stats.beta.pdf(0.3, post_params[2][0], post_params[2][1]))\n",
        "print(\"SDDR:\",sddr)\n",
        "\n",
        "#確率変数の予測\n",
        "a_ast, b_ast = post_params[2]\n",
        "print(\"予測した確率変数:\",a_ast/(a_ast+b_ast))"
      ],
      "metadata": {
        "colab": {
          "base_uri": "https://localhost:8080/"
        },
        "id": "UoGcufKKfZpm",
        "outputId": "8228ca81-83b5-4e72-c105-83a9cf7cf73b"
      },
      "execution_count": 43,
      "outputs": [
        {
          "output_type": "stream",
          "name": "stdout",
          "text": [
            "事後確率による結果: 0.0627836\n",
            "事後オッズ比による結果: 0.06698944\n",
            "ベイズファクターでの比較: -2.7598357\n",
            "SDDR: -1.0076445793821351\n",
            "予測した確率変数: 0.25769230769230766\n"
          ]
        }
      ]
    },
    {
      "cell_type": "code",
      "source": [
        ""
      ],
      "metadata": {
        "id": "3L640bvsfFNJ"
      },
      "execution_count": 43,
      "outputs": []
    }
  ]
}